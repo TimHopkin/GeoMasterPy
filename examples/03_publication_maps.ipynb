{
 "cells": [
  {
   "cell_type": "markdown",
   "metadata": {},
   "source": [
    "# GeoMasterPy Publication Quality Maps\n",
    "\n",
    "This notebook demonstrates creating publication-quality static maps using Cartopy."
   ]
  },
  {
   "cell_type": "code",
   "execution_count": null,
   "metadata": {},
   "outputs": [],
   "source": [
    "import ee\n",
    "import geomasterpy as gmp\n",
    "import matplotlib.pyplot as plt\n",
    "\n",
    "# Initialize Earth Engine\n",
    "ee.Initialize()"
   ]
  },
  {
   "cell_type": "markdown",
   "metadata": {},
   "source": [
    "## Load Data"
   ]
  },
  {
   "cell_type": "code",
   "execution_count": null,
   "metadata": {},
   "outputs": [],
   "source": [
    "# Define study area (Yellowstone National Park)\n",
    "yellowstone = ee.Geometry.Rectangle([-111.2, 44.1, -109.9, 45.0])\n",
    "\n",
    "# Load Landsat 8 data\n",
    "landsat = ee.ImageCollection('LANDSAT/LC08/C02/T1_L2') \\\n",
    "    .filterBounds(yellowstone) \\\n",
    "    .filterDate('2023-07-01', '2023-09-30') \\\n",
    "    .filter(ee.Filter.lt('CLOUD_COVER', 10)) \\\n",
    "    .median() \\\n",
    "    .clip(yellowstone)\n",
    "\n",
    "# Apply scaling factors\n",
    "def apply_scale_factors(image):\n",
    "    optical_bands = image.select('SR_B.').multiply(0.0000275).add(-0.2)\n",
    "    return image.addBands(optical_bands, None, True)\n",
    "\n",
    "landsat = apply_scale_factors(landsat)\n",
    "\n",
    "print(\"Data loaded successfully\")"
   ]
  },
  {
   "cell_type": "markdown",
   "metadata": {},
   "source": [
    "## Create Publication Map"
   ]
  },
  {
   "cell_type": "code",
   "execution_count": null,
   "metadata": {},
   "outputs": [],
   "source": [
    "# Visualization parameters\n",
    "vis_params = {\n",
    "    'bands': ['SR_B4', 'SR_B3', 'SR_B2'],\n",
    "    'min': 0.0,\n",
    "    'max': 0.3,\n",
    "    'gamma': 1.4\n",
    "}\n",
    "\n",
    "# Create publication map\n",
    "fig = gmp.plot_ee_image_cartopy(\n",
    "    landsat,\n",
    "    vis_params,\n",
    "    yellowstone,\n",
    "    figsize=(12, 8),\n",
    "    title='Yellowstone National Park - Landsat 8 True Color Composite',\n",
    "    projection='PlateCarree',\n",
    "    add_gridlines=True,\n",
    "    coastlines=False,  # No coastlines for inland area\n",
    "    borders=True\n",
    ")\n",
    "\n",
    "plt.show()"
   ]
  },
  {
   "cell_type": "markdown",
   "metadata": {},
   "source": [
    "## NDVI Map with Custom Styling"
   ]
  },
  {
   "cell_type": "code",
   "execution_count": null,
   "metadata": {},
   "outputs": [],
   "source": [
    "# Calculate NDVI\n",
    "ndvi = landsat.normalizedDifference(['SR_B5', 'SR_B4']).rename('NDVI')\n",
    "\n",
    "# NDVI visualization\n",
    "ndvi_vis = {\n",
    "    'bands': ['NDVI'],\n",
    "    'min': -0.2,\n",
    "    'max': 0.8,\n",
    "    'palette': ['brown', 'yellow', 'lightgreen', 'darkgreen']\n",
    "}\n",
    "\n",
    "# Create NDVI map\n",
    "fig = gmp.plot_ee_image_cartopy(\n",
    "    ndvi,\n",
    "    ndvi_vis,\n",
    "    yellowstone,\n",
    "    figsize=(10, 8),\n",
    "    title='Yellowstone National Park - Normalized Difference Vegetation Index (NDVI)',\n",
    "    add_colorbar=True,\n",
    "    cmap='RdYlGn'  # Override palette with matplotlib colormap\n",
    ")\n",
    "\n",
    "plt.show()"
   ]
  },
  {
   "cell_type": "markdown",
   "metadata": {},
   "source": [
    "## Comparison Map"
   ]
  },
  {
   "cell_type": "code",
   "execution_count": null,
   "metadata": {},
   "outputs": [],
   "source": [
    "# Create before/after comparison (using different seasons)\n",
    "summer_image = ee.ImageCollection('LANDSAT/LC08/C02/T1_L2') \\\n",
    "    .filterBounds(yellowstone) \\\n",
    "    .filterDate('2023-07-01', '2023-08-31') \\\n",
    "    .filter(ee.Filter.lt('CLOUD_COVER', 10)) \\\n",
    "    .median() \\\n",
    "    .clip(yellowstone)\n",
    "\n",
    "winter_image = ee.ImageCollection('LANDSAT/LC08/C02/T1_L2') \\\n",
    "    .filterBounds(yellowstone) \\\n",
    "    .filterDate('2023-01-01', '2023-02-28') \\\n",
    "    .filter(ee.Filter.lt('CLOUD_COVER', 10)) \\\n",
    "    .median() \\\n",
    "    .clip(yellowstone)\n",
    "\n",
    "# Apply scaling\n",
    "summer_image = apply_scale_factors(summer_image)\n",
    "winter_image = apply_scale_factors(winter_image)\n",
    "\n",
    "# Create comparison map\n",
    "fig = gmp.plotting.create_comparison_map(\n",
    "    summer_image,\n",
    "    winter_image,\n",
    "    vis_params,\n",
    "    vis_params,\n",
    "    yellowstone,\n",
    "    titles=['Summer 2023', 'Winter 2023'],\n",
    "    figsize=(16, 6)\n",
    ")\n",
    "\n",
    "plt.suptitle('Seasonal Comparison - Yellowstone National Park', fontsize=16, fontweight='bold')\n",
    "plt.show()"
   ]
  },
  {
   "cell_type": "markdown",
   "metadata": {},
   "source": [
    "## Different Projections"
   ]
  },
  {
   "cell_type": "code",
   "execution_count": null,
   "metadata": {},
   "outputs": [],
   "source": [
    "# Create maps with different projections\n",
    "projections = ['PlateCarree', 'LambertConformal', 'Mercator']\n",
    "\n",
    "fig, axes = plt.subplots(1, 3, figsize=(18, 5))\n",
    "\n",
    "for i, proj in enumerate(projections):\n",
    "    # Note: This would need to be adapted to work with subplots\n",
    "    # For now, we'll create individual maps\n",
    "    pass\n",
    "\n",
    "print(\"Different projections can be used:\")\n",
    "for proj in projections:\n",
    "    print(f\"- {proj}\")"
   ]
  },
  {
   "cell_type": "markdown",
   "metadata": {},
   "source": [
    "## Save High-Quality Map"
   ]
  },
  {
   "cell_type": "code",
   "execution_count": null,
   "metadata": {},
   "outputs": [],
   "source": [
    "# Create a high-quality map for publication\n",
    "fig = gmp.plot_ee_image_cartopy(\n",
    "    landsat,\n",
    "    vis_params,\n",
    "    yellowstone,\n",
    "    figsize=(12, 10),\n",
    "    title='Yellowstone National Park\\nLandsat 8 True Color Composite (Summer 2023)',\n",
    "    add_gridlines=True,\n",
    "    borders=True\n",
    ")\n",
    "\n",
    "# Save as high-resolution PNG\n",
    "gmp.plotting.save_publication_map(\n",
    "    fig, \n",
    "    'yellowstone_publication_map.png', \n",
    "    dpi=300, \n",
    "    format='png'\n",
    ")\n",
    "\n",
    "# Save as PDF for publications\n",
    "gmp.plotting.save_publication_map(\n",
    "    fig, \n",
    "    'yellowstone_publication_map.pdf', \n",
    "    dpi=300, \n",
    "    format='pdf'\n",
    ")\n",
    "\n",
    "plt.show()"
   ]
  },
  {
   "cell_type": "markdown",
   "metadata": {},
   "source": [
    "## Custom Styling Tips"
   ]
  },
  {
   "cell_type": "code",
   "execution_count": null,
   "metadata": {},
   "outputs": [],
   "source": [
    "print(\"Tips for publication-quality maps:\")\n",
    "print(\"1. Use high DPI (300+) for print publications\")\n",
    "print(\"2. Choose appropriate projections for your study area\")\n",
    "print(\"3. Include proper colorbars and legends\")\n",
    "print(\"4. Use consistent color schemes across figures\")\n",
    "print(\"5. Add informative titles and captions\")\n",
    "print(\"6. Consider colorblind-friendly palettes\")\n",
    "print(\"7. Save in vector formats (PDF, SVG) when possible\")"
   ]
  }
 ],
 "metadata": {
  "kernelspec": {
   "display_name": "Python 3",
   "language": "python",
   "name": "python3"
  },
  "language_info": {
   "codemirror_mode": {
    "name": "ipython",
    "version": 3
   },
   "file_extension": ".py",
   "name": "python",
   "nbconvert_exporter": "python",
   "pygments_lexer": "ipython3",
   "version": "3.8.0"
  }
 },
 "nbformat": 4,
 "nbformat_minor": 4
}