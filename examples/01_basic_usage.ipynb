{
 "cells": [
  {
   "cell_type": "markdown",
   "metadata": {},
   "source": [
    "# GeoMasterPy Basic Usage Example\n",
    "\n",
    "This notebook demonstrates the basic usage of GeoMasterPy for interactive mapping with Google Earth Engine."
   ]
  },
  {
   "cell_type": "markdown",
   "metadata": {},
   "source": [
    "## Setup and Imports"
   ]
  },
  {
   "cell_type": "code",
   "execution_count": null,
   "metadata": {},
   "outputs": [],
   "source": [
    "import ee\n",
    "import geomasterpy as gmp\n",
    "\n",
    "# Initialize Earth Engine\n",
    "ee.Initialize()"
   ]
  },
  {
   "cell_type": "markdown",
   "metadata": {},
   "source": [
    "## Creating an Interactive Map"
   ]
  },
  {
   "cell_type": "code",
   "execution_count": null,
   "metadata": {},
   "outputs": [],
   "source": [
    "# Create a map centered on San Francisco\n",
    "Map = gmp.Map(center=(37.7749, -122.4194), zoom=10)\n",
    "\n",
    "# Add a basemap\n",
    "Map.add_basemap('Google.Satellite')\n",
    "\n",
    "# Display the map\n",
    "Map"
   ]
  },
  {
   "cell_type": "markdown",
   "metadata": {},
   "source": [
    "## Adding Earth Engine Layers"
   ]
  },
  {
   "cell_type": "code",
   "execution_count": null,
   "metadata": {},
   "outputs": [],
   "source": [
    "# Load a Landsat 8 image\n",
    "landsat = ee.ImageCollection('LANDSAT/LC08/C02/T1_L2') \\\n",
    "    .filterBounds(ee.Geometry.Point(-122.4194, 37.7749)) \\\n",
    "    .filterDate('2020-01-01', '2020-12-31') \\\n",
    "    .filter(ee.Filter.lt('CLOUD_COVER', 20)) \\\n",
    "    .median()\n",
    "\n",
    "# Visualization parameters for true color\n",
    "vis_params = {\n",
    "    'bands': ['SR_B4', 'SR_B3', 'SR_B2'],\n",
    "    'min': 0.0,\n",
    "    'max': 0.3,\n",
    "    'gamma': 1.4\n",
    "}\n",
    "\n",
    "# Add the layer to the map\n",
    "Map.add_ee_layer(landsat, vis_params, 'Landsat 8 True Color')"
   ]
  },
  {
   "cell_type": "markdown",
   "metadata": {},
   "source": [
    "## Calculate and Display NDVI"
   ]
  },
  {
   "cell_type": "code",
   "execution_count": null,
   "metadata": {},
   "outputs": [],
   "source": [
    "# Calculate NDVI\n",
    "ndvi = landsat.normalizedDifference(['SR_B5', 'SR_B4']).rename('NDVI')\n",
    "\n",
    "# NDVI visualization parameters\n",
    "ndvi_vis = {\n",
    "    'min': -1,\n",
    "    'max': 1,\n",
    "    'palette': ['blue', 'white', 'green']\n",
    "}\n",
    "\n",
    "# Add NDVI layer\n",
    "Map.add_ee_layer(ndvi, ndvi_vis, 'NDVI')\n",
    "\n",
    "# Add a colorbar for NDVI\n",
    "gmp.add_colorbar(Map, ndvi_vis, 'NDVI')"
   ]
  },
  {
   "cell_type": "markdown",
   "metadata": {},
   "source": [
    "## Adding a Legend"
   ]
  },
  {
   "cell_type": "code",
   "execution_count": null,
   "metadata": {},
   "outputs": [],
   "source": [
    "# Create a legend for land cover types\n",
    "legend_dict = {\n",
    "    'Water': 'blue',\n",
    "    'Urban': 'gray', \n",
    "    'Forest': 'green',\n",
    "    'Agriculture': 'yellow'\n",
    "}\n",
    "\n",
    "gmp.add_legend(Map, 'Land Cover', legend_dict)"
   ]
  },
  {
   "cell_type": "markdown",
   "metadata": {},
   "source": [
    "## Inspector Tool"
   ]
  },
  {
   "cell_type": "code",
   "execution_count": null,
   "metadata": {},
   "outputs": [],
   "source": [
    "# Add inspector tool to query pixel values\n",
    "Map.add_inspector_tool()\n",
    "print(\"Click on the map to inspect pixel values!\")"
   ]
  },
  {
   "cell_type": "markdown",
   "metadata": {},
   "source": [
    "## Drawing Tools"
   ]
  },
  {
   "cell_type": "code",
   "execution_count": null,
   "metadata": {},
   "outputs": [],
   "source": [
    "# The map already has drawing tools enabled by default\n",
    "# Use the drawing controls to draw shapes\n",
    "print(\"Use the drawing tools on the map to create polygons, rectangles, or points!\")\n",
    "print(\"Run the next cell to see what you've drawn:\")"
   ]
  },
  {
   "cell_type": "code",
   "execution_count": null,
   "metadata": {},
   "outputs": [],
   "source": [
    "# Get drawing data\n",
    "drawing_data = Map.get_drawing_data()\n",
    "print(\"Drawing data:\", drawing_data)"
   ]
  }
 ],
 "metadata": {
  "kernelspec": {
   "display_name": "Python 3",
   "language": "python",
   "name": "python3"
  },
  "language_info": {
   "codemirror_mode": {
    "name": "ipython",
    "version": 3
   },
   "file_extension": ".py",
   "name": "python",
   "nbconvert_exporter": "python",
   "pygments_lexer": "ipython3",
   "version": "3.8.0"
  }
 },
 "nbformat": 4,
 "nbformat_minor": 4
}