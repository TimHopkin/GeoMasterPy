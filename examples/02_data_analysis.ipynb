{
 "cells": [
  {
   "cell_type": "markdown",
   "metadata": {},
   "source": [
    "# GeoMasterPy Data Analysis Example\n",
    "\n",
    "This notebook demonstrates geospatial analysis capabilities of GeoMasterPy."
   ]
  },
  {
   "cell_type": "code",
   "execution_count": null,
   "metadata": {},
   "outputs": [],
   "source": [
    "import ee\n",
    "import geomasterpy as gmp\n",
    "import pandas as pd\n",
    "\n",
    "# Initialize Earth Engine\n",
    "ee.Initialize()"
   ]
  },
  {
   "cell_type": "markdown",
   "metadata": {},
   "source": [
    "## Load Sentinel-2 Data"
   ]
  },
  {
   "cell_type": "code",
   "execution_count": null,
   "metadata": {},
   "outputs": [],
   "source": [
    "# Define area of interest (a region in California)\n",
    "aoi = ee.Geometry.Rectangle([-121.5, 37.0, -121.0, 37.5])\n",
    "\n",
    "# Load Sentinel-2 data\n",
    "s2 = ee.ImageCollection('COPERNICUS/S2_SR_HARMONIZED') \\\n",
    "    .filterBounds(aoi) \\\n",
    "    .filterDate('2023-06-01', '2023-08-31') \\\n",
    "    .filter(ee.Filter.lt('CLOUDY_PIXEL_PERCENTAGE', 10)) \\\n",
    "    .median() \\\n",
    "    .clip(aoi)\n",
    "\n",
    "print(f\"Loaded Sentinel-2 image with bands: {s2.bandNames().getInfo()}\")"
   ]
  },
  {
   "cell_type": "markdown",
   "metadata": {},
   "source": [
    "## Calculate Spectral Indices"
   ]
  },
  {
   "cell_type": "code",
   "execution_count": null,
   "metadata": {},
   "outputs": [],
   "source": [
    "# Calculate multiple indices\n",
    "indices_image = gmp.analysis.calculate_indices(s2, ['NDVI', 'NDWI', 'NDBI', 'EVI'])\n",
    "\n",
    "print(f\"Image with indices: {indices_image.bandNames().getInfo()}\")"
   ]
  },
  {
   "cell_type": "markdown",
   "metadata": {},
   "source": [
    "## Visualize Results"
   ]
  },
  {
   "cell_type": "code",
   "execution_count": null,
   "metadata": {},
   "outputs": [],
   "source": [
    "# Create map\n",
    "Map = gmp.Map(center=(37.25, -121.25), zoom=10)\n",
    "\n",
    "# Add true color image\n",
    "rgb_vis = {'bands': ['B4', 'B3', 'B2'], 'min': 0, 'max': 3000}\n",
    "Map.add_ee_layer(s2, rgb_vis, 'Sentinel-2 RGB')\n",
    "\n",
    "# Add NDVI\n",
    "ndvi_vis = {'min': -1, 'max': 1, 'palette': ['blue', 'white', 'green']}\n",
    "Map.add_ee_layer(indices_image.select('NDVI'), ndvi_vis, 'NDVI')\n",
    "\n",
    "# Add colorbar\n",
    "gmp.add_colorbar(Map, ndvi_vis, 'NDVI')\n",
    "\n",
    "Map"
   ]
  },
  {
   "cell_type": "markdown",
   "metadata": {},
   "source": [
    "## Image Statistics"
   ]
  },
  {
   "cell_type": "code",
   "execution_count": null,
   "metadata": {},
   "outputs": [],
   "source": [
    "# Calculate statistics for the indices\n",
    "stats = gmp.analysis.image_stats(\n",
    "    indices_image, \n",
    "    aoi, \n",
    "    scale=20, \n",
    "    bands=['NDVI', 'NDWI', 'NDBI', 'EVI']\n",
    ")\n",
    "\n",
    "# Display as DataFrame\n",
    "stats_df = pd.DataFrame(stats).T\n",
    "print(\"Index Statistics:\")\n",
    "stats_df"
   ]
  },
  {
   "cell_type": "markdown",
   "metadata": {},
   "source": [
    "## Unsupervised Classification"
   ]
  },
  {
   "cell_type": "code",
   "execution_count": null,
   "metadata": {},
   "outputs": [],
   "source": [
    "# Perform k-means clustering\n",
    "bands_for_classification = ['B2', 'B3', 'B4', 'B8', 'NDVI', 'NDWI']\n",
    "classified = gmp.analysis.unsupervised_classification(\n",
    "    indices_image,\n",
    "    num_classes=5,\n",
    "    scale=20,\n",
    "    region=aoi,\n",
    "    bands=bands_for_classification\n",
    ")\n",
    "\n",
    "# Visualization for classification\n",
    "class_vis = {\n",
    "    'min': 0,\n",
    "    'max': 4,\n",
    "    'palette': ['red', 'blue', 'green', 'yellow', 'purple']\n",
    "}\n",
    "\n",
    "Map.add_ee_layer(classified, class_vis, 'Land Cover Classes')\n",
    "\n",
    "# Add legend\n",
    "class_legend = {\n",
    "    'Class 1': 'red',\n",
    "    'Class 2': 'blue', \n",
    "    'Class 3': 'green',\n",
    "    'Class 4': 'yellow',\n",
    "    'Class 5': 'purple'\n",
    "}\n",
    "gmp.add_legend(Map, 'Land Cover Classes', class_legend)"
   ]
  },
  {
   "cell_type": "markdown",
   "metadata": {},
   "source": [
    "## Time Series Analysis"
   ]
  },
  {
   "cell_type": "code",
   "execution_count": null,
   "metadata": {},
   "outputs": [],
   "source": [
    "# Load time series data\n",
    "time_series = ee.ImageCollection('COPERNICUS/S2_SR_HARMONIZED') \\\n",
    "    .filterBounds(aoi.centroid()) \\\n",
    "    .filterDate('2023-01-01', '2023-12-31') \\\n",
    "    .filter(ee.Filter.lt('CLOUDY_PIXEL_PERCENTAGE', 20)) \\\n",
    "    .map(lambda img: img.normalizedDifference(['B8', 'B4']).rename('NDVI').copyProperties(img, ['system:time_start']))\n",
    "\n",
    "# Create time series chart\n",
    "chart = gmp.viz.create_time_series_chart(\n",
    "    time_series,\n",
    "    aoi.centroid().buffer(1000),\n",
    "    band='NDVI',\n",
    "    reducer='mean',\n",
    "    scale=20\n",
    ")\n",
    "\n",
    "chart"
   ]
  },
  {
   "cell_type": "markdown",
   "metadata": {},
   "source": [
    "## Create Histogram"
   ]
  },
  {
   "cell_type": "code",
   "execution_count": null,
   "metadata": {},
   "outputs": [],
   "source": [
    "# Create histogram for NDVI values\n",
    "histogram = gmp.viz.create_histogram(\n",
    "    indices_image,\n",
    "    aoi,\n",
    "    'NDVI',\n",
    "    scale=20\n",
    ")\n",
    "\n",
    "histogram"
   ]
  },
  {
   "cell_type": "markdown",
   "metadata": {},
   "source": [
    "## Export Data"
   ]
  },
  {
   "cell_type": "code",
   "execution_count": null,
   "metadata": {},
   "outputs": [],
   "source": [
    "# Export NDVI image to Google Drive\n",
    "export_task = gmp.export.export_image_to_drive(\n",
    "    indices_image.select('NDVI'),\n",
    "    description='NDVI_analysis',\n",
    "    folder='GeoMasterPy_exports',\n",
    "    region=aoi,\n",
    "    scale=20\n",
    ")\n",
    "\n",
    "print(f\"Export task started: {export_task.id if export_task else 'Failed'}\")"
   ]
  }
 ],
 "metadata": {
  "kernelspec": {
   "display_name": "Python 3",
   "language": "python",
   "name": "python3"
  },
  "language_info": {
   "codemirror_mode": {
    "name": "ipython",
    "version": 3
   },
   "file_extension": ".py",
   "name": "python",
   "nbconvert_exporter": "python",
   "pygments_lexer": "ipython3",
   "version": "3.8.0"
  }
 },
 "nbformat": 4,
 "nbformat_minor": 4
}