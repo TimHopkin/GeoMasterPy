{
 "cells": [
  {
   "cell_type": "markdown",
   "metadata": {},
   "source": [
    "# 🚀 GeoMasterPy Quick Start\n",
    "\n",
    "Welcome to GeoMasterPy! This notebook will get you started with the library.\n",
    "\n",
    "**Important**: This notebook shows basic functionality. For full Earth Engine features, you'll need to authenticate first."
   ]
  },
  {
   "cell_type": "markdown",
   "metadata": {},
   "source": [
    "## Step 1: Import and Test Basic Functionality"
   ]
  },
  {
   "cell_type": "code",
   "execution_count": null,
   "metadata": {},
   "outputs": [],
   "source": [
    "# Import the library\n",
    "import geomasterpy as gmp\n",
    "print(\"✓ GeoMasterPy imported successfully!\")\n",
    "\n",
    "# Test basic functionality without Earth Engine\n",
    "print(\"\\n🔍 Testing data catalog search...\")\n",
    "results = gmp.search_ee_data('landsat', max_results=3)\n",
    "print(f\"Found {len(results)} datasets:\")\n",
    "for i, result in enumerate(results, 1):\n",
    "    print(f\"{i}. {result['title']}\")"
   ]
  },
  {
   "cell_type": "markdown",
   "metadata": {},
   "source": [
    "## Step 2: JavaScript to Python Conversion"
   ]
  },
  {
   "cell_type": "code",
   "execution_count": null,
   "metadata": {},
   "outputs": [],
   "source": [
    "# Test JavaScript to Python conversion\n",
    "js_code = \"\"\"\n",
    "var image = ee.Image('LANDSAT/LC08/C02/T1_L2/LC08_044034_20140318');\n",
    "var ndvi = image.normalizedDifference(['B5', 'B4']);\n",
    "Map.addLayer(ndvi, {min: -1, max: 1, palette: ['blue', 'white', 'green']}, 'NDVI');\n",
    "\"\"\"\n",
    "\n",
    "python_code = gmp.js_snippet_to_python(js_code)\n",
    "print(\"Original JavaScript:\")\n",
    "print(js_code)\n",
    "print(\"\\nConverted Python:\")\n",
    "print(python_code)"
   ]
  },
  {
   "cell_type": "markdown",
   "metadata": {},
   "source": [
    "## Step 3: Create a Basic Map (without Earth Engine data)\n",
    "\n",
    "**Note**: This creates a map widget. To see Earth Engine data, you'll need to authenticate first."
   ]
  },
  {
   "cell_type": "code",
   "execution_count": null,
   "metadata": {},
   "outputs": [],
   "source": [
    "# Create a basic map\n",
    "try:\n",
    "    # This will work without Earth Engine authentication\n",
    "    from unittest.mock import patch\n",
    "    \n",
    "    with patch('ee.Initialize'):  # Temporarily mock Earth Engine\n",
    "        Map = gmp.Map(center=(37.7749, -122.4194), zoom=10)\n",
    "        print(\"✓ Map created successfully!\")\n",
    "        print(f\"Center: {Map.center}\")\n",
    "        print(f\"Zoom: {Map.zoom}\")\n",
    "        \n",
    "        # You can add basemaps without Earth Engine\n",
    "        # Map.add_basemap('OpenStreetMap')  # Uncomment when ready\n",
    "        \n",
    "except Exception as e:\n",
    "    print(f\"Error creating map: {e}\")\n",
    "    print(\"This is normal if Earth Engine isn't authenticated yet.\")"
   ]
  },
  {
   "cell_type": "markdown",
   "metadata": {},
   "source": [
    "## Step 4: Create Sample Visualization"
   ]
  },
  {
   "cell_type": "code",
   "execution_count": null,
   "metadata": {},
   "outputs": [],
   "source": [
    "import matplotlib.pyplot as plt\n",
    "import numpy as np\n",
    "\n",
    "# Create a sample NDVI-style visualization\n",
    "fig, ax = plt.subplots(figsize=(10, 6))\n",
    "\n",
    "# Generate sample data\n",
    "x = np.linspace(-122.5, -122.0, 100)\n",
    "y = np.linspace(37.5, 38.0, 100)\n",
    "X, Y = np.meshgrid(x, y)\n",
    "Z = np.sin(10 * X) * np.cos(10 * Y) * 0.5 + 0.3  # Simulate NDVI\n",
    "\n",
    "# Create plot\n",
    "im = ax.contourf(X, Y, Z, levels=20, cmap='RdYlGn', vmin=-1, vmax=1)\n",
    "ax.set_title('Sample NDVI Visualization (Simulated Data)', fontsize=14, fontweight='bold')\n",
    "ax.set_xlabel('Longitude')\n",
    "ax.set_ylabel('Latitude')\n",
    "\n",
    "# Add colorbar\n",
    "cbar = plt.colorbar(im, ax=ax, shrink=0.8)\n",
    "cbar.set_label('NDVI')\n",
    "\n",
    "plt.tight_layout()\n",
    "plt.show()\n",
    "\n",
    "print(\"✓ Sample visualization created!\")\n",
    "print(\"This demonstrates the type of publication-quality maps GeoMasterPy can create.\")"
   ]
  },
  {
   "cell_type": "markdown",
   "metadata": {},
   "source": [
    "## Step 5: Next Steps - Earth Engine Authentication\n",
    "\n",
    "To use the full power of GeoMasterPy with Earth Engine data, you need to authenticate:"
   ]
  },
  {
   "cell_type": "code",
   "execution_count": null,
   "metadata": {},
   "outputs": [],
   "source": [
    "print(\"🔐 To authenticate Earth Engine:\")\n",
    "print(\"\")\n",
    "print(\"Option 1 - In Python:\")\n",
    "print(\"  import ee\")\n",
    "print(\"  ee.Authenticate()  # Follow the browser prompts\")\n",
    "print(\"  ee.Initialize()\")\n",
    "print(\"\")\n",
    "print(\"Option 2 - Command line (if available):\")\n",
    "print(\"  earthengine authenticate\")\n",
    "print(\"\")\n",
    "print(\"After authentication, you can:\")\n",
    "print(\"✓ Load real satellite imagery\")\n",
    "print(\"✓ Perform geospatial analysis\")\n",
    "print(\"✓ Export data to files\")\n",
    "print(\"✓ Create interactive maps with Earth Engine layers\")"
   ]
  },
  {
   "cell_type": "markdown",
   "metadata": {},
   "source": [
    "## Available Examples\n",
    "\n",
    "Once you have Earth Engine set up, check out these example notebooks:\n",
    "\n",
    "1. **`examples/01_basic_usage.ipynb`** - Interactive mapping basics\n",
    "2. **`examples/02_data_analysis.ipynb`** - Geospatial analysis workflows\n",
    "3. **`examples/03_publication_maps.ipynb`** - Publication-quality static maps\n",
    "\n",
    "## Key Features Available\n",
    "\n",
    "- 📍 **Interactive Maps**: `gmp.Map()` with Earth Engine integration\n",
    "- 🗂️ **Data Search**: `gmp.search_ee_data()` for finding datasets\n",
    "- 🔄 **JS Conversion**: `gmp.js_snippet_to_python()` for code migration\n",
    "- 📊 **Analysis**: `gmp.analysis.*` for statistics and classification\n",
    "- 💾 **Export**: `gmp.export.*` for saving data\n",
    "- 🎨 **Visualization**: `gmp.viz.*` for legends, charts, animations\n",
    "- 🖼️ **Publication Maps**: `gmp.plot_ee_image_cartopy()` for high-quality maps"
   ]
  },
  {
   "cell_type": "code",
   "execution_count": null,
   "metadata": {},
   "outputs": [],
   "source": [
    "print(\"🎉 Quick start complete!\")\n",
    "print(\"🌍 Welcome to GeoMasterPy - Happy mapping! 🗺️\")"
   ]
  }
 ],
 "metadata": {
  "kernelspec": {
   "display_name": "Python 3",
   "language": "python",
   "name": "python3"
  },
  "language_info": {
   "codemirror_mode": {
    "name": "ipython",
    "version": 3
   },
   "file_extension": ".py",
   "name": "python",
   "nbconvert_exporter": "python",
   "pygments_lexer": "ipython3",
   "version": "3.8.0"
  }
 },
 "nbformat": 4,
 "nbformat_minor": 4
}